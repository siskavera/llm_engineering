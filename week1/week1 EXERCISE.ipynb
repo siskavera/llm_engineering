{
 "cells": [
  {
   "cell_type": "markdown",
   "id": "fe12c203-e6a6-452c-a655-afb8a03a4ff5",
   "metadata": {},
   "source": [
    "# End of week 1 exercise\n",
    "\n",
    "To demonstrate your familiarity with OpenAI API, and also Ollama, build a tool that takes a technical question,  \n",
    "and responds with an explanation. This is a tool that you will be able to use yourself during the course!"
   ]
  },
  {
   "cell_type": "code",
   "execution_count": 20,
   "id": "c1070317-3ed9-4659-abe3-828943230e03",
   "metadata": {},
   "outputs": [],
   "source": [
    "import os\n",
    "\n",
    "from openai import OpenAI\n",
    "from dotenv import load_dotenv\n",
    "from IPython.display import Markdown, display"
   ]
  },
  {
   "cell_type": "code",
   "execution_count": 10,
   "id": "4a456906-915a-4bfd-bb9d-57e505c5093f",
   "metadata": {},
   "outputs": [],
   "source": [
    "# constants\n",
    "\n",
    "MODEL_GPT = 'gpt-4o-mini'\n",
    "MODEL_LLAMA = 'llama3.2'"
   ]
  },
  {
   "cell_type": "code",
   "execution_count": 11,
   "id": "a8d7923c-5f28-4c30-8556-342d7c8497c1",
   "metadata": {},
   "outputs": [],
   "source": [
    "# set up environment\n",
    "load_dotenv(override=True)\n",
    "api_key = os.getenv('OPENAI_API_KEY')\n",
    "\n",
    "openai = OpenAI()"
   ]
  },
  {
   "cell_type": "code",
   "execution_count": 14,
   "id": "3f0d0137-52b0-47a8-81a8-11a90a010798",
   "metadata": {},
   "outputs": [],
   "source": [
    "# here is the question; type over this to ask something new\n",
    "system_prompt = \"You are an assistant that answers technical questions and responds with an explanation. \\\n",
    "Where applicable, you provide concrete code blocks for examples, using python. You may also provide links\\\n",
    "to documentation or other online resources.\"\n",
    "\n",
    "code_question = \"\"\"\n",
    "Please explain what this code does and why:\n",
    "yield from {book.get(\"author\") for book in books if book.get(\"author\")}\n",
    "\"\"\""
   ]
  },
  {
   "cell_type": "code",
   "execution_count": 25,
   "id": "60ce7000-a4a5-4cce-a261-e75ef45063b4",
   "metadata": {},
   "outputs": [],
   "source": [
    "# Get gpt-4o-mini to answer, with streaming\n",
    "def ask_gpt(question):\n",
    "    stream = openai.chat.completions.create(\n",
    "        model=MODEL_GPT,\n",
    "        messages=[\n",
    "            {\"role\": \"system\", \"content\": system_prompt},\n",
    "            {\"role\": \"user\", \"content\": question}\n",
    "          ],\n",
    "        stream=True\n",
    "    )\n",
    "\n",
    "    response = \"\"\n",
    "    for chunk in stream:\n",
    "        response += chunk.choices[0].delta.content or ''\n",
    "\n",
    "    return response"
   ]
  },
  {
   "cell_type": "code",
   "execution_count": 27,
   "id": "10a70912-eb38-465a-816b-72bb97d39415",
   "metadata": {},
   "outputs": [
    {
     "data": {
      "text/markdown": [
       "This line of code is a Python statement that uses `yield from` with a generator expression that creates a set of authors from a collection of book dictionaries. Let's break it down:\n",
       "\n",
       "1. **Set Comprehension**: `{book.get(\"author\") for book in books if book.get(\"author\")}` is a set comprehension that iterates over the `books` iterable. For each `book` in `books`, it retrieves the `\"author\"` from the dictionary using `book.get(\"author\")`. The `if book.get(\"author\")` condition ensures that only books with a non-empty author (i.e., instead of `None` or an empty string) are considered. The set comprehension will return a set of unique authors because sets automatically handle duplicates.\n",
       "\n",
       "2. **`yield from`**: The expression `yield from` is used in a generator to yield all values from an iterable (in this case, the set created by the comprehension). This means that instead of returning a single value or a complete list, it allows the generator that contains this line to yield each author one at a time to the caller.\n",
       "\n",
       "### Why Use This Code?\n",
       "\n",
       "- **Efficiency**: Using a set comprehension quickly collects unique authors without having to manually check for duplicates.\n",
       "- **Iterability**: The use of `yield from` makes it easy to produce a stream of authors without creating a list in memory, which can be beneficial for handling large datasets.\n",
       "- **Readability**: The code is concise and expresses the intent clearly: to gather authors and yield them one by one.\n",
       "\n",
       "### Example Code\n",
       "\n",
       "Here is a complete example to illustrate how this might be used:\n",
       "\n",
       "```python\n",
       "def get_authors(books):\n",
       "    yield from {book.get(\"author\") for book in books if book.get(\"author\")}\n",
       "\n",
       "# Example usage:\n",
       "books = [\n",
       "    {\"title\": \"Book A\", \"author\": \"Author 1\"},\n",
       "    {\"title\": \"Book B\", \"author\": \"Author 2\"},\n",
       "    {\"title\": \"Book C\", \"author\": \"Author 1\"},  # Duplicate author\n",
       "    {\"title\": \"Book D\"},  # No author\n",
       "    {\"title\": \"Book E\", \"author\": \"Author 3\"}\n",
       "]\n",
       "\n",
       "for author in get_authors(books):\n",
       "    print(author)\n",
       "```\n",
       "\n",
       "### Output\n",
       "```\n",
       "Author 1\n",
       "Author 2\n",
       "Author 3\n",
       "```\n",
       "\n",
       "In the example, `get_authors(books)` collects unique authors from the list of book dictionaries and prints them one by one, with duplicates and books without authors omitted.\n",
       "\n",
       "### Resources\n",
       "- Python [Set Comprehensions](https://docs.python.org/3/tutorial/datastructures.html#sets)\n",
       "- Python [Generators](https://docs.python.org/3/tutorial/classes.html#generators)"
      ],
      "text/plain": [
       "<IPython.core.display.Markdown object>"
      ]
     },
     "metadata": {},
     "output_type": "display_data"
    }
   ],
   "source": [
    "display(Markdown(ask_gpt(code_question)))"
   ]
  },
  {
   "cell_type": "code",
   "execution_count": 18,
   "id": "8f7c8ea8-4082-4ad0-8751-3301adcf6538",
   "metadata": {},
   "outputs": [],
   "source": [
    "# Get Llama 3.2 to answer\n",
    "ollama_via_openai = OpenAI(base_url='http://localhost:11434/v1', api_key='ollama')\n",
    "\n",
    "def ask_ollama(question):\n",
    "    response = ollama_via_openai.chat.completions.create(\n",
    "        model=MODEL_LLAMA,\n",
    "        messages=[\n",
    "            {\"role\": \"system\", \"content\": system_prompt},\n",
    "            {\"role\": \"user\", \"content\": question}\n",
    "          ],\n",
    "    )\n",
    "    \n",
    "    return response.choices[0].message.content"
   ]
  },
  {
   "cell_type": "code",
   "execution_count": 21,
   "id": "6794a844-4aa2-48a1-b925-bfb4873a2600",
   "metadata": {},
   "outputs": [
    {
     "data": {
      "text/markdown": [
       "**Code Explanation**\n",
       "\n",
       "The given code uses a feature of Python called \"yield from\" which is used to simplify iteration over multiple iterables.\n",
       "\n",
       "Here's a breakdown:\n",
       "\n",
       "- `yield from`: This keyword allows you to expand the current iterator into multiple iterators. It can be thought of as a `for` loop that takes an iterable and yields each item in turn, using the next iteration of another iterator if needed.\n",
       "  \n",
       "- `{book.get(\"author\") for book in books}`: This is a generator expression, which creates an iterable object by evaluating an expression for each item in an input iterable. In this case, it's generating a sequence of `author` values from dictionaries in the \"books\" iterable.\n",
       "\n",
       "The key part is the use of `yield from`, which takes the sequence generated above and yields each value from these sequences.\n",
       "\n",
       "**How it works**\n",
       "\n",
       "1. The expression `{book.get(\"author\") for book in books if book.get(\"author\")}` generates a sequence of authors from the given list of dictionaries.\n",
       "2. The outer iterator is then replaced by `yield from` which expands this into `yield * ...`, yielding each dictionary's `author` value one at a time.\n",
       "\n",
       "**Example Use Case**\n",
       "\n",
       "```python\n",
       "# Sample data\n",
       "books = [\n",
       "    {\"title\": \"Book 1\", \"author\": \"John Doe\"},\n",
       "    {\"title\": \"Book 2\", \"author\": \"Jane Smith\"},\n",
       "    {},\n",
       "    {\"title\": \"\", \"author\": \"Unknown\"}\n",
       "]\n",
       "\n",
       "authors = yield from {book.get(\"author\") for book in books if book.get(\"author\")}\n",
       "\n",
       "print(authors) # Output: ['John Doe', 'Jane Smith']\n",
       "```\n",
       "\n",
       "In this example, the `yield from` expression is used to extract a sequence of authors from the `books` list. Without the `yield from`, we'd have an iterator that contains another iterable (a dictionary with only the `author` key). The `yield from` replaces it with one where every value is yielded iteratively.\n",
       "\n",
       "For example, in the first iteration over the `\"Book 1\"` entry, `book.get(\"author\")` yields `'John Doe'`. Then for `\"Jane Smith\"`, `\"Author = Jane Smith\"` is passed to an inner function where author gets extracted."
      ],
      "text/plain": [
       "<IPython.core.display.Markdown object>"
      ]
     },
     "metadata": {},
     "output_type": "display_data"
    }
   ],
   "source": [
    "display(Markdown(ask_ollama(code_question)))"
   ]
  },
  {
   "cell_type": "code",
   "execution_count": null,
   "id": "e57106a2-f587-4714-94b5-c97cd868e2d4",
   "metadata": {},
   "outputs": [],
   "source": []
  }
 ],
 "metadata": {
  "kernelspec": {
   "display_name": "Python 3 (ipykernel)",
   "language": "python",
   "name": "python3"
  },
  "language_info": {
   "codemirror_mode": {
    "name": "ipython",
    "version": 3
   },
   "file_extension": ".py",
   "mimetype": "text/x-python",
   "name": "python",
   "nbconvert_exporter": "python",
   "pygments_lexer": "ipython3",
   "version": "3.11.13"
  }
 },
 "nbformat": 4,
 "nbformat_minor": 5
}
